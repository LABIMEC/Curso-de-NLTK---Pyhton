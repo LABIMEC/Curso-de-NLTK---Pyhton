{
 "cells": [
  {
   "cell_type": "markdown",
   "metadata": {},
   "source": [
    "**O Código a seguir extrai textos de arquivos PDF**"
   ]
  },
  {
   "cell_type": "markdown",
   "metadata": {},
   "source": [
    "**O seguinte código vai ler todas as atas que estão no no arquivo Brasil.zip, extraí-las no diretório e armazenar o conteúdo das atas em formato de texto na lista \"list\".**"
   ]
  },
  {
   "cell_type": "code",
   "execution_count": 1,
   "metadata": {},
   "outputs": [],
   "source": [
    "from tika import parser\n",
    "import zipfile\n",
    "import os\n",
    "from tkinter import Tk\n",
    "from tkinter.filedialog import askopenfilename, asksaveasfilename\n",
    "\n",
    "Tk().withdraw() #não abrirá uma full GUI, dessa forma queremos a janela raiz oculta.\n",
    "list = []\n",
    "\n",
    "arquivo = zipfile.ZipFile(askopenfilename(initialdir = \"/Desktop\",title = \"Select file\",filetypes = ((\"zip files\",\"*.zip\"),(\"all files\",\"*.*\"))), 'r')\n",
    "\n",
    "for i in range(len(arquivo.namelist())):\n",
    "    list.append( parser.from_file(arquivo.extract(arquivo.namelist()[i]))['content'])\n",
    "    os.remove(arquivo.extract(arquivo.namelist()[i])) "
   ]
  },
  {
   "cell_type": "code",
   "execution_count": 3,
   "metadata": {},
   "outputs": [],
   "source": [
    "arquivo2 = zipfile.ZipFile(asksaveasfilename(initialdir = \"/Desktop\",title = \"Select file\",filetypes = ((\"zip files\",\"*.zip\"),(\"all files\",\"*.*\"))), 'w')\n",
    "for i in range(len(arquivo.namelist())):\n",
    "    arquivo2.writestr(arquivo.infolist()[i].filename[:-3]+\"txt\", list[i])  \n",
    "arquivo2.close()\n",
    "arquivo.close()"
   ]
  },
  {
   "cell_type": "markdown",
   "metadata": {},
   "source": [
    "**Tenho que mudar o tipo de arquivo list para pand para trabalhar a idéia de datas**"
   ]
  }
 ],
 "metadata": {
  "kernelspec": {
   "display_name": "Python 3",
   "language": "python",
   "name": "python3"
  },
  "language_info": {
   "codemirror_mode": {
    "name": "ipython",
    "version": 3
   },
   "file_extension": ".py",
   "mimetype": "text/x-python",
   "name": "python",
   "nbconvert_exporter": "python",
   "pygments_lexer": "ipython3",
   "version": "3.7.0"
  }
 },
 "nbformat": 4,
 "nbformat_minor": 2
}
