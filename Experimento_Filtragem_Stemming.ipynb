{
 "cells": [
  {
   "cell_type": "code",
   "execution_count": 179,
   "metadata": {},
   "outputs": [],
   "source": [
    "import numpy as np\n",
    "import pandas as pd\n",
    "import string"
   ]
  },
  {
   "cell_type": "markdown",
   "metadata": {},
   "source": [
    "**Supondo que os documentos de interesse são as seguintes manchetes do G1, desejamos agrupa-las em uma única lista para facilitar o tratamento dos dados. Cria-se também um contador, que corresponde ao vetor C, que mostrará quantas vezes as palavras de interesse se repetiram nos documentos**"
   ]
  },
  {
   "cell_type": "code",
   "execution_count": 180,
   "metadata": {},
   "outputs": [],
   "source": [
    "a = \"Polícia faz varredura em presídio da PM e encontra dinheiro em moeda estrangeira com o governador Pezão\"\n",
    "b = \"Polícia Federal já fez 32 operações para tentar achar Battisti, diz diretor\"\n",
    "c = \"PF cumpre mandados de busca em endereços ligados ao advogado de agressor de Bolsonaro, na Grande BH\"\n",
    "d = \"Brasil registra redução no número de mortes violentas nos nove primeiros meses do ano\"\n",
    "e = \"Vereador de Frutal é denunciado pelo Ministério Público por corrupção e falso testemunho\"\n",
    "f = \"Haddad vira réu por corrupção e lavagem de dinheiro\"\n",
    "\n",
    "documentos = [a.lower(), b.lower(), c.lower(), d.lower(), e.lower(), f.lower()]\n",
    "contador = np.zeros(3)"
   ]
  },
  {
   "cell_type": "markdown",
   "metadata": {},
   "source": [
    "**Um método primitivo de stemming, o bloco de código seguinte retirará os caracteres especiais e as pontuações (preserva-se os acentos)**"
   ]
  },
  {
   "cell_type": "code",
   "execution_count": 181,
   "metadata": {},
   "outputs": [
    {
     "name": "stdout",
     "output_type": "stream",
     "text": [
      "['polícia faz varredura em presídio da pm e encontra dinheiro em moeda estrangeira com o governador pezão', 'polícia federal já fez 32 operações para tentar achar battisti diz diretor', 'pf cumpre mandados de busca em endereços ligados ao advogado de agressor de bolsonaro na grande bh', 'brasil registra redução no número de mortes violentas nos nove primeiros meses do ano', 'vereador de frutal é denunciado pelo ministério público por corrupção e falso testemunho', 'haddad vira réu por corrupção e lavagem de dinheiro']\n"
     ]
    }
   ],
   "source": [
    "exclude = set(string.punctuation)\n",
    "for i in range(len(documentos)):\n",
    "    documentos[i] = ''.join(c for c in documentos[i] if c not in exclude)\n",
    "    \n",
    "print(documentos)\n"
   ]
  },
  {
   "cell_type": "markdown",
   "metadata": {},
   "source": [
    "**O vetor de interesse V. Decidi usar um dicionário, todas as palavras relacionadas a corrupção, operação e dinheiro, foram definidas por mim e tem apenas caráter exploratório, o critério de seleção foi a intuição**"
   ]
  },
  {
   "cell_type": "code",
   "execution_count": 182,
   "metadata": {},
   "outputs": [],
   "source": [
    "interesse_stemming = {\"corrupção\": [\"corrupção\",\"corrupto\", \"corruptos\", \"lavagem\"], \n",
    "                      \"operação\":[\"operações\", \"operação\"], \"dinheiro\":[\"dinheiro\", \"moeda\", \"moedas\"]}"
   ]
  },
  {
   "cell_type": "markdown",
   "metadata": {},
   "source": [
    "**Divisão dos textos dos documentos, é necessário pois o método \"palavra in documento\" não é capaz de captar reptições**"
   ]
  },
  {
   "cell_type": "code",
   "execution_count": 183,
   "metadata": {},
   "outputs": [
    {
     "name": "stdout",
     "output_type": "stream",
     "text": [
      "[['polícia', 'faz', 'varredura', 'em', 'presídio', 'da', 'pm', 'e', 'encontra', 'dinheiro', 'em', 'moeda', 'estrangeira', 'com', 'o', 'governador', 'pezão'], ['polícia', 'federal', 'já', 'fez', '32', 'operações', 'para', 'tentar', 'achar', 'battisti', 'diz', 'diretor'], ['pf', 'cumpre', 'mandados', 'de', 'busca', 'em', 'endereços', 'ligados', 'ao', 'advogado', 'de', 'agressor', 'de', 'bolsonaro', 'na', 'grande', 'bh'], ['brasil', 'registra', 'redução', 'no', 'número', 'de', 'mortes', 'violentas', 'nos', 'nove', 'primeiros', 'meses', 'do', 'ano'], ['vereador', 'de', 'frutal', 'é', 'denunciado', 'pelo', 'ministério', 'público', 'por', 'corrupção', 'e', 'falso', 'testemunho'], ['haddad', 'vira', 'réu', 'por', 'corrupção', 'e', 'lavagem', 'de', 'dinheiro']]\n"
     ]
    }
   ],
   "source": [
    "for i in range(len(documentos)):\n",
    "    documentos[i] = documentos[i].split()\n",
    "print(documentos)"
   ]
  },
  {
   "cell_type": "markdown",
   "metadata": {},
   "source": [
    "**Nesse momento, serão testados em todos os documentos a presença das palavras de interesse do vetor V. Note que eu testo palavra a palavra de cada documento (usando um for/for), tentando captar se elas se encontram no meu dicionário (Vetor de interesse V)**"
   ]
  },
  {
   "cell_type": "code",
   "execution_count": 178,
   "metadata": {},
   "outputs": [
    {
     "name": "stdout",
     "output_type": "stream",
     "text": [
      "[3. 1. 3.]\n"
     ]
    }
   ],
   "source": [
    "for i in range(len(documentos)):\n",
    "    for j in range(len(documentos[i])):\n",
    "        if(documentos[i][j] in interesse_stemming['corrupção']) : contador[0] = contador[0] + 1\n",
    "        if(documentos[i][j] in interesse_stemming['operação']) : contador[1] = contador[1] + 1\n",
    "        if(documentos[i][j] in interesse_stemming['dinheiro']) : contador[2] = contador[2] + 1\n",
    "print(contador)"
   ]
  }
 ],
 "metadata": {
  "kernelspec": {
   "display_name": "Python 3",
   "language": "python",
   "name": "python3"
  },
  "language_info": {
   "codemirror_mode": {
    "name": "ipython",
    "version": 3
   },
   "file_extension": ".py",
   "mimetype": "text/x-python",
   "name": "python",
   "nbconvert_exporter": "python",
   "pygments_lexer": "ipython3",
   "version": "3.7.0"
  }
 },
 "nbformat": 4,
 "nbformat_minor": 2
}
