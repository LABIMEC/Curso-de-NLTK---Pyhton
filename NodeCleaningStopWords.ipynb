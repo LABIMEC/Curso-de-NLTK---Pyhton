{
 "cells": [
  {
   "cell_type": "code",
   "execution_count": 24,
   "metadata": {},
   "outputs": [
    {
     "name": "stdout",
     "output_type": "stream",
     "text": [
      "['time', 'habit', 'swimming', 'hours']\n"
     ]
    }
   ],
   "source": [
    "import nltk\n",
    "from nltk.stem import WordNetLemmatizer\n",
    "\n",
    "a = ['Gabriel was running and eating at same time. Gabriel has bad habit of swimming after playing long hours in the Sun.']   \n",
    "\n",
    "a[0] = nltk.word_tokenize(a[0])\n",
    "\n",
    "tagged = nltk.pos_tag(a[0])\n",
    "a[0] = [word for word,pos in tagged if pos == \"NN\" or pos == \"NNS\"]\n",
    "\n",
    "print(a[0])\n",
    "\n",
    "\n"
   ]
  },
  {
   "cell_type": "code",
   "execution_count": 19,
   "metadata": {},
   "outputs": [
    {
     "name": "stdout",
     "output_type": "stream",
     "text": [
      "[['i', 'had', 'to', 'belive'], ['now', ',', 'it', 'is', 'my', 'turn', '.', 'you', \"'ll\", 'see']]\n",
      "[['belive'], [',', 'turn', '.', \"'ll\", 'see']]\n"
     ]
    }
   ],
   "source": [
    "from nltk.corpus import stopwords\n",
    "\n",
    "c = ['i had to belive', \"now, it is my turn. you'll see \"]\n",
    "c[0] = nltk.word_tokenize(c[0])\n",
    "c[1] = nltk.word_tokenize(c[1])\n",
    "print(c)\n",
    "c[0] = [a for a in c[0] if a not in  stopwords.words('english')]\n",
    "c[1] = [a for a in c[1] if a not in  stopwords.words('english')]\n",
    "print(c)\n"
   ]
  }
 ],
 "metadata": {
  "kernelspec": {
   "display_name": "Python 3",
   "language": "python",
   "name": "python3"
  },
  "language_info": {
   "codemirror_mode": {
    "name": "ipython",
    "version": 3
   },
   "file_extension": ".py",
   "mimetype": "text/x-python",
   "name": "python",
   "nbconvert_exporter": "python",
   "pygments_lexer": "ipython3",
   "version": "3.7.0"
  }
 },
 "nbformat": 4,
 "nbformat_minor": 2
}
