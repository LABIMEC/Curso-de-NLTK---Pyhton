{
 "cells": [
  {
   "cell_type": "code",
   "execution_count": 24,
   "metadata": {},
   "outputs": [
    {
     "name": "stdout",
     "output_type": "stream",
     "text": [
      "Io to the beach with my and go with to the of . , do , viva a !\n"
     ]
    }
   ],
   "source": [
    "import nltk\n",
    "\n",
    "words = set(nltk.corpus.words.words())\n",
    "\n",
    "#Língua\n",
    "sent = \"Io andiamo to the beach with my amigo and go with rocha to the areia of praia. Bonjour, espanhol é uma língua diferente do francês, viva a França!\"\n",
    "\n",
    "sent = \" \".join(w for w in nltk.wordpunct_tokenize(sent) \\\n",
    "         if w.lower() in words or not w.isalpha())\n",
    "\n",
    "print(sent)\n"
   ]
  }
 ],
 "metadata": {
  "kernelspec": {
   "display_name": "Python 3",
   "language": "python",
   "name": "python3"
  },
  "language_info": {
   "codemirror_mode": {
    "name": "ipython",
    "version": 3
   },
   "file_extension": ".py",
   "mimetype": "text/x-python",
   "name": "python",
   "nbconvert_exporter": "python",
   "pygments_lexer": "ipython3",
   "version": "3.7.0"
  }
 },
 "nbformat": 4,
 "nbformat_minor": 2
}
