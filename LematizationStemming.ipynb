{
 "cells": [
  {
   "cell_type": "code",
   "execution_count": 1,
   "metadata": {},
   "outputs": [
    {
     "name": "stdout",
     "output_type": "stream",
     "text": [
      "['Gabriel', 'was', 'running', 'and', 'eating', 'at', 'same', 'time', '.', 'Gabriel', 'has', 'bad', 'habit', 'of', 'swimming', 'after', 'playing', 'long', 'hours', 'in', 'the', 'Sun', '.']\n",
      "['Gabriel', 'be', 'run', 'and', 'eat', 'at', 'same', 'time', '.', 'Gabriel', 'have', 'bad', 'habit', 'of', 'swim', 'after', 'play', 'long', 'hours', 'in', 'the', 'Sun', '.']\n",
      "['gabriel', 'be', 'run', 'and', 'eat', 'at', 'same', 'time', '.', 'gabriel', 'have', 'bad', 'habit', 'of', 'swim', 'after', 'play', 'long', 'hour', 'in', 'the', 'sun', '.']\n",
      "['gabriel', 'eat', 'time', 'gabriel', 'habit', 'swim', 'play', 'hour', 'sun']\n"
     ]
    }
   ],
   "source": [
    "#nltk.download('averaged_perceptron_tagger')\n",
    "\n",
    "import nltk\n",
    "from nltk.stem import WordNetLemmatizer\n",
    "\n",
    "frase = \"Gabriel was running and eating at same time. Gabriel has bad habit of swimming after playing long hours in the Sun.\"\n",
    "\n",
    "frase = nltk.word_tokenize(frase)\n",
    "print(frase)\n",
    "\n",
    "for i in range(len(frase)):\n",
    "    frase[i] = WordNetLemmatizer().lemmatize(frase[i], pos='v')\n",
    "    \n",
    "print(frase)\n",
    "\n",
    "for i in range(len(frase)):\n",
    "    frase[i] = nltk.stem.SnowballStemmer('english').stem(frase[i])\n",
    "    \n",
    "print(frase)\n",
    "\n",
    "tagged = nltk.pos_tag(frase)\n",
    "tagged[0:]\n",
    "\n",
    "nouns = [word for word,pos in tagged if (pos == 'NN' or pos == 'NNP' or pos == 'NNS' or pos == 'NNPS')]\n",
    "         \n",
    "print(nouns)"
   ]
  }
 ],
 "metadata": {
  "kernelspec": {
   "display_name": "Python 3",
   "language": "python",
   "name": "python3"
  },
  "language_info": {
   "codemirror_mode": {
    "name": "ipython",
    "version": 3
   },
   "file_extension": ".py",
   "mimetype": "text/x-python",
   "name": "python",
   "nbconvert_exporter": "python",
   "pygments_lexer": "ipython3",
   "version": "3.7.0"
  }
 },
 "nbformat": 4,
 "nbformat_minor": 2
}
