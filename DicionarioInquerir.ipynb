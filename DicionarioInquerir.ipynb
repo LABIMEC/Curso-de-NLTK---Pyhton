{
 "cells": [
  {
   "cell_type": "code",
   "execution_count": 13,
   "metadata": {},
   "outputs": [
    {
     "data": {
      "text/plain": [
       "pandas.core.frame.DataFrame"
      ]
     },
     "execution_count": 13,
     "metadata": {},
     "output_type": "execute_result"
    }
   ],
   "source": [
    "import pandas as pd\n",
    "\n",
    "dicionario = pd.read_excel('dicInquerir.xls')\n",
    "\n",
    "type(dicionario.loc[dicionario['Positiv'] == 'Positiv'])"
   ]
  },
  {
   "cell_type": "code",
   "execution_count": 173,
   "metadata": {},
   "outputs": [
    {
     "name": "stdout",
     "output_type": "stream",
     "text": [
      "['JJ', 'NN', 'VB', 'IN', 'VBP', 'RB', 'VBD', 'NNS', 'VBG', 'JJS', 'DT', 'JJR', 'VBZ', 'VBN', 'RBR', 'MD', 'FW', 'EX', 'NNP', 'CC', 'WP']\n",
      "21\n"
     ]
    }
   ],
   "source": [
    "import pandas as pd\n",
    "import nltk\n",
    "\n",
    "dicionario = pd.read_excel('dicInquerir.xls')\n",
    "\n",
    "palavrasPositivas = []\n",
    "palavrasNegativas = []\n",
    "\n",
    "\n",
    "for i in dicionario.loc[dicionario['Positiv'] == 'Positiv']['Entry'].apply(lambda x: x.split('#')[0].lower()):\n",
    "    if i not in palavrasPositivas:\n",
    "        palavrasPositivas.append(i)\n",
    "\n",
    "for i in dicionario.loc[dicionario['Negativ'] == 'Negativ']['Entry'].apply(lambda x : False if x == False else x.lower().split('#')[0]):\n",
    "    if i == False:\n",
    "        palavrasNegativas.append('false')\n",
    "    elif i not in palavrasNegativas:\n",
    "        palavrasNegativas.append(i)  \n",
    "        \n",
    "\n",
    "marcadoPP = nltk.pos_tag(palavrasPositivas) #Processo de pos_tag similar a função filtragem()\n",
    "marcadoPN = nltk.pos_tag(palavrasNegativas) #Processo de pos_tag similar a função filtragem()\n",
    "\n",
    "marcadores = []\n",
    "\n",
    "#Adiciona as tags dos marcadores positivos e negativos a uma só variável 'macadores', esse processo é bastante útil na hora de filtragem.\n",
    "#A utilidade deve-se ao fato de apenas tags das palavras do dicionário serem de interesse para a contagem de ocorrências.\n",
    "#Ao fim do processo todas as tags presentes no dicionário são mostradas.\n",
    "#Exemplo, a tag JJR é o equivalente adjective, comparative. É possivel que um adjetivo comparativo esteja presente na ata e, ainda assim, não ser o mesmo adjetivo de interesse.\n",
    "for i in range(len(marcadoPP)):\n",
    "    if not marcadoPP[i][1] in marcadores : marcadores.append(marcadoPP[i][1])\n",
    "        \n",
    "for i in range(len(marcadoPN)):\n",
    "    if not marcadoPN[i][1] in marcadores : marcadores.append(marcadoPN[i][1])\n",
    "\n",
    "print(marcadores)\n",
    "print(len(marcadores))\n"
   ]
  },
  {
   "cell_type": "code",
   "execution_count": 136,
   "metadata": {},
   "outputs": [
    {
     "name": "stdout",
     "output_type": "stream",
     "text": [
      "1915\n"
     ]
    }
   ],
   "source": [
    "positivas = []\n",
    "\n",
    "for i in dicionario.loc[dicionario['Positiv'] == 'Positiv']['Entry'].apply(lambda x: x.split('#')[0]):\n",
    "    positivas.append(i.lower())\n",
    "    \n",
    "print(len(positivas))"
   ]
  },
  {
   "cell_type": "code",
   "execution_count": 167,
   "metadata": {},
   "outputs": [
    {
     "name": "stdout",
     "output_type": "stream",
     "text": [
      "2291\n"
     ]
    }
   ],
   "source": [
    "negativas = []\n",
    "\n",
    "for i in dicionario.loc[dicionario['Negativ'] == 'Negativ']['Entry']: \n",
    "    if i == False:\n",
    "        negativas.append('false')\n",
    "    else:\n",
    "        negativas.append(i.lower().split('#')[0])  \n",
    "\n",
    "print(len(negativas))"
   ]
  },
  {
   "cell_type": "code",
   "execution_count": 171,
   "metadata": {},
   "outputs": [
    {
     "name": "stdout",
     "output_type": "stream",
     "text": [
      "2005\n"
     ]
    }
   ],
   "source": [
    "negativas = []\n",
    "\n",
    "for i in dicionario.loc[dicionario['Negativ'] == 'Negativ']['Entry'].apply(lambda x : False if x == False else x.lower().split('#')[0]):\n",
    "    if i == False:\n",
    "        negativas.append('false')\n",
    "    elif i not in negativas:\n",
    "        negativas.append(i)  \n",
    "\n",
    "print(len(negativas))"
   ]
  }
 ],
 "metadata": {
  "kernelspec": {
   "display_name": "Python 3",
   "language": "python",
   "name": "python3"
  },
  "language_info": {
   "codemirror_mode": {
    "name": "ipython",
    "version": 3
   },
   "file_extension": ".py",
   "mimetype": "text/x-python",
   "name": "python",
   "nbconvert_exporter": "python",
   "pygments_lexer": "ipython3",
   "version": "3.7.0"
  }
 },
 "nbformat": 4,
 "nbformat_minor": 2
}
